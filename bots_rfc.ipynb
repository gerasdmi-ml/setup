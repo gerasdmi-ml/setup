{
 "cells": [
  {
   "cell_type": "code",
   "execution_count": null,
   "id": "aeb86ed0-af2f-4fd5-b20e-d6393348f361",
   "metadata": {},
   "outputs": [],
   "source": [
    "started_bot = False\n",
    "\n",
    "\n",
    "def beep_callback (in_data, frame_count, time_info, status):\n",
    "    T=5;fs=22050;f=800\n",
    "    switch_noise = np.cos((2*np.pi*f/fs)*np.arange(fs*T))\n",
    "    return (switch_noise, pyaudio.paContinue)\n",
    "\n",
    "p_beep = pyaudio.PyAudio() ;stream_beep = p_beep.open(format = 1, channels = 1, rate = 44100, output = True, stream_callback = beep_callback) \n",
    "\n",
    "\n",
    "def recorder():\n",
    "    global started, p, stream, frames, iteration_counter,latitude,longitude, df_stat, last_try, started_bot\n",
    "    if listener.key_pressed and not started and not started_bot:\n",
    "        ...\n",
    "    elif not listener.key_pressed and started and not started_bot:\n",
    "         ...\n",
    "    if listener.key_pressed and not started and started_bot:  # нажата тангета в момент переговоров ботов \n",
    "        started = True\n",
    "        stream_beep.start_stream()\n",
    "    if not listener.key_pressed and started and  started_bot:  # отжата тангета в момент переговоров ботов \n",
    "        started = False\n",
    "        stream_beep.stop_stream()\n",
    "    task.enter(0.05, 1, recorder, ())\n",
    "        \n",
    "def random_flying():\n",
    "    global started, started_bot\n",
    "    counter = 0\n",
    "    starttime = time.monotonic()\n",
    "    df3 = pd.read_csv('waypoints2.csv',  sep =';');df3 = df3[(df3['s1']!='--') & df3['s1'].notnull() ]; df3 = df3.reset_index();\n",
    "    while True:\n",
    "        time.sleep(30.0 - ((time.monotonic() - starttime) % 30.0))\n",
    "        if not started:   # started - признак основного говорящего, не перебиваем его никогда \n",
    "            started_bot = True\n",
    "            random_point = counter - counter // len(df3) * len(df3);counter +=1\n",
    "            sd.play(switch_noise, 44100);time.sleep(0.5);np_output = synth.synth_audio(synonyms3(df3.loc[random_point,'s1']), speaker_id=4,);np_output = np_output * 5;sd.play(np_output, 22050);sd.wait()\n",
    "            sd.play(switch_noise, 44100);time.sleep(0.5);np_output = synth.synth_audio(synonyms3(df3.loc[random_point,'s2']), speaker_id=3,);np_output = np_output * 5;sd.play(np_output, 22050);sd.wait()\n",
    "            sd.play(switch_noise, 44100);time.sleep(0.5);np_output = synth.synth_audio(synonyms3('121 понял.'), speaker_id=4,);np_output = np_output * 5;sd.play(np_output, 22050);sd.wait()\n",
    "            sd.play(switch_noise, 44100);time.sleep(0.5); \n",
    "            started_bot = False"
   ]
  },
  {
   "cell_type": "code",
   "execution_count": null,
   "id": "54fd2d79-bc23-4040-ba58-272677ab13aa",
   "metadata": {},
   "outputs": [],
   "source": []
  }
 ],
 "metadata": {
  "kernelspec": {
   "display_name": "Python 3 (ipykernel)",
   "language": "python",
   "name": "python3"
  },
  "language_info": {
   "codemirror_mode": {
    "name": "ipython",
    "version": 3
   },
   "file_extension": ".py",
   "mimetype": "text/x-python",
   "name": "python",
   "nbconvert_exporter": "python",
   "pygments_lexer": "ipython3",
   "version": "3.10.5"
  }
 },
 "nbformat": 4,
 "nbformat_minor": 5
}
